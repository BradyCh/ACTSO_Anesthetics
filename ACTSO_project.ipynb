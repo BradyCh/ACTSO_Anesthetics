{
  "cells": [
    {
      "cell_type": "markdown",
      "metadata": {
        "id": "view-in-github",
        "colab_type": "text"
      },
      "source": [
        "<a href=\"https://colab.research.google.com/github/BradyCh/ACTSO_Anesthetics/blob/main/ACTSO_project.ipynb\" target=\"_parent\"><img src=\"https://colab.research.google.com/assets/colab-badge.svg\" alt=\"Open In Colab\"/></a>"
      ]
    },
    {
      "cell_type": "code",
      "execution_count": null,
      "metadata": {
        "id": "9hDPBtaA49kU"
      },
      "outputs": [],
      "source": [
        "a=a+1\n",
        "b=a+1\n",
        "print(a,b)"
      ]
    },
    {
      "cell_type": "code",
      "execution_count": null,
      "metadata": {
        "id": "Js3il5HJ6Fcs"
      },
      "outputs": [],
      "source": [
        "a+=2\n",
        "b=a+1\n",
        "print(a,b)"
      ]
    },
    {
      "cell_type": "code",
      "execution_count": null,
      "metadata": {
        "id": "F2GXOepE7U-x"
      },
      "outputs": [],
      "source": [
        "a*=2\n",
        "b=a*2\n",
        "print(a,b)"
      ]
    },
    {
      "cell_type": "code",
      "execution_count": null,
      "metadata": {
        "id": "AknwuZQB8XE8"
      },
      "outputs": [],
      "source": [
        "a**=3\n",
        "b=a**3\n",
        "print(a,b)"
      ]
    },
    {
      "cell_type": "code",
      "execution_count": null,
      "metadata": {
        "id": "yLsf8Jh88wiZ"
      },
      "outputs": [],
      "source": [
        "c=[1,2,0,3,2022]\n",
        "d=c+[1,1,1,1]\n",
        "print(c,d)\n"
      ]
    },
    {
      "cell_type": "code",
      "execution_count": null,
      "metadata": {
        "id": "jFTwUUrs_516"
      },
      "outputs": [],
      "source": [
        "import numpy as np"
      ]
    },
    {
      "cell_type": "code",
      "execution_count": null,
      "metadata": {
        "id": "lZWlxx1HBBAe"
      },
      "outputs": [],
      "source": [
        "c=np.array([1,2,0,3,2022])\n",
        "d=c-np.array([1,1,1,1,1])\n",
        "print(c,d)"
      ]
    },
    {
      "cell_type": "code",
      "execution_count": null,
      "metadata": {
        "id": "PwnOe6GeCXu8"
      },
      "outputs": [],
      "source": [
        "c=np.array([1,2,0,3,2022])\n",
        "d=c**np.array([1,1,1,1,2])\n",
        "print(c,d)"
      ]
    },
    {
      "cell_type": "code",
      "execution_count": null,
      "metadata": {
        "id": "SKUbFxUQ42eb"
      },
      "outputs": [],
      "source": [
        "import numpy as np\n",
        "x_map=np.array([0,1,2,3,4,5,6,7,8,9,10])\n",
        "for x in x_map:\n",
        "  y=x+1\n",
        "  y=y*2\n",
        "  if y>14:\n",
        "    print(y)\n",
        "  elif (y>=14) and (y<20):\n",
        "    print('Hi')\n",
        "  else:\n",
        "    print('Hello')\n"
      ]
    },
    {
      "cell_type": "code",
      "execution_count": null,
      "metadata": {
        "id": "5zOWoLfGeGGz"
      },
      "outputs": [],
      "source": [
        "!pip install -q condacolab\n",
        "import condacolab\n",
        "condacolab.install()\n",
        "!conda install -c rdkit rdkit"
      ]
    },
    {
      "cell_type": "code",
      "execution_count": null,
      "metadata": {
        "id": "EyFenj2RgAun"
      },
      "outputs": [],
      "source": [
        "import rdkit"
      ]
    },
    {
      "cell_type": "code",
      "execution_count": null,
      "metadata": {
        "id": "08Wr7WbpgKjh"
      },
      "outputs": [],
      "source": [
        "from rdkit import Chem\n",
        "from rdkit.Chem import Draw"
      ]
    },
    {
      "cell_type": "code",
      "execution_count": null,
      "metadata": {
        "id": "OdRpeDkPgqGs"
      },
      "outputs": [],
      "source": [
        "mol1 = Chem.MolFromSmiles(\"CCCCCCCCO\")\n",
        "mol1 = Chem.AddHs(mol1)\n",
        "Draw.MolToImage(mol1)"
      ]
    },
    {
      "cell_type": "code",
      "execution_count": null,
      "metadata": {
        "id": "e0K8uHUaiAZa"
      },
      "outputs": [],
      "source": [
        "mol2 = Chem.MolFromSmiles(\"CC(F)(F)F\")\n",
        "mol_map = [mol1,mol2]\n",
        "Draw.MolsToGridImage(mol_map)"
      ]
    },
    {
      "cell_type": "code",
      "execution_count": null,
      "metadata": {
        "id": "TtjTqdk4kPmr"
      },
      "outputs": [],
      "source": [
        "import pandas as pd"
      ]
    },
    {
      "cell_type": "code",
      "execution_count": null,
      "metadata": {
        "id": "wm0f5w3bn2QJ"
      },
      "outputs": [],
      "source": []
    },
    {
      "cell_type": "code",
      "execution_count": null,
      "metadata": {
        "id": "DraM6puSkUfW"
      },
      "outputs": [],
      "source": [
        "from google.colab import drive\n",
        "drive.mount('/content/gdrive', force_remount=True)"
      ]
    },
    {
      "cell_type": "code",
      "execution_count": null,
      "metadata": {
        "id": "0YBm_Kn9n6_4"
      },
      "outputs": [],
      "source": [
        "df=pd.read_excel('gdrive/My Drive/Anesthetics list_021723.xlsx','cutpasted drug list')\n",
        "df #dataframe"
      ]
    },
    {
      "cell_type": "code",
      "execution_count": null,
      "metadata": {
        "id": "nzRTmmBzo0nP"
      },
      "outputs": [],
      "source": [
        "mol_map=[]\n",
        "for sm in df.SMILES:\n",
        "  mol = Chem.MolFromSmiles(str(sm))\n",
        "  mol_map.append(mol)\n",
        "Draw.MolsToGridImage(mol_map)"
      ]
    },
    {
      "cell_type": "code",
      "execution_count": null,
      "metadata": {
        "id": "4j9trhG8FUGw"
      },
      "outputs": [],
      "source": [
        "mol_map=[]\n",
        "for sm in df.SMILES:\n",
        "  mol = Chem.MolFromSmiles(str(sm))\n",
        "  mol_map.append(mol)\n",
        "Draw.MolsToGridImage(mol_map, molsPerRow=10)"
      ]
    },
    {
      "cell_type": "code",
      "execution_count": null,
      "metadata": {
        "id": "7GECWmHMjn-Z"
      },
      "outputs": [],
      "source": [
        "from rdkit.Chem import rdMolDescriptors\n",
        "from rdkit.Chem.Draw import IPythonConsole\n",
        "\n",
        "mol = Chem.MolFromSmiles(\"C(C(F)(F)Cl)(F)(F)F\")\n",
        "bi = {}\n",
        "fp0 = rdMolDescriptors.GetMorganFingerprintAsBitVect(mol, radius=0)\n",
        "fp = rdMolDescriptors.GetMorganFingerprintAsBitVect(mol, radius=1, bitInfo=bi)\n",
        "\n",
        "list_bits = []\n",
        "legends = []\n",
        "for x in fp.GetOnBits():\n",
        "  if x not in fp0.GetOnBits():\n",
        "    list_bits.append((mol,x,bi,0))\n",
        "    legends.append(str(len(bi[x])))\n",
        "Draw.DrawMorganBits(list_bits, legends=legends)"
      ]
    },
    {
      "cell_type": "code",
      "execution_count": null,
      "metadata": {
        "id": "okKgh6Zkxkyj"
      },
      "outputs": [],
      "source": [
        "import pandas as pd\n",
        "from google.colab import drive\n",
        "drive.mount('/content/gdrive', force_remount=True)\n",
        "\n",
        "data = pd.read_csv('gdrive/My Drive/data_sample.csv')\n",
        "data"
      ]
    },
    {
      "cell_type": "code",
      "execution_count": null,
      "metadata": {
        "id": "kbtLYuwixo0a"
      },
      "outputs": [],
      "source": [
        "import numpy as np\n",
        "import matplotlib.pyplot as plt\n",
        "import sklearn as sklearn\n",
        "from sklearn.linear_model import LinearRegression\n",
        "\n",
        "########Define dataset#########\n",
        "x=data.iloc[:,3:11].to_numpy()\n",
        "y=data.iloc[:,12].to_numpy()\n",
        "\n",
        "########Fitting to entire data########\n",
        "reg = LinearRegression()\n",
        "reg.fit(x,y)\n",
        "y_pred=reg.predict(x)\n",
        "\n",
        "fig,ax=plt.subplots(1,1,figsize=(4,4))\n",
        "ax.plot([0,200],[0,200],'k--')\n",
        "ax.set_xlim([0,100])\n",
        "ax.set_ylim([0,100])\n",
        "ax.set_xlabel('YSI(pred)')\n",
        "ax.set_ylabel('YSI(exp)')\n",
        "ax.plot(y_pred,y,'ko')"
      ]
    },
    {
      "cell_type": "code",
      "execution_count": null,
      "metadata": {
        "id": "bE8IY2Q7M2y4"
      },
      "outputs": [],
      "source": [
        "from rdkit.Chem import rdMolDescriptors\n",
        "import numpy as np\n",
        "\n",
        "fingerprint=np.zeros([len(df['SMILES']),2000])\n",
        "AP=np.zeros([len(df['SMILES']),1])\n",
        "for smiles_idx, smiles in enumerate(df['SMILES']):\n",
        "  mol = Chem.MolFromSmiles(smiles)\n",
        "  bi = {}\n",
        "  fp0 = rdMolDescriptors.GetMorganFingerprintAsBitVect(mol, radius=0,bitInfo=bi)\n",
        "  for x in fp0.GetOnBits():\n",
        "    fingerprint[smiles_idx,x]=len(bi[x])\n",
        "    AP[smiles_idx]=df['APexp'][smiles_idx]\n",
        "fingerprint\n",
        "\n",
        "import numpy as np\n",
        "import matplotlib.pyplot as plt\n",
        "import sklearn as sklearn\n",
        "from sklearn.linear_model import LinearRegression\n",
        "\n",
        "x=fingerprint\n",
        "y=AP\n",
        "\n",
        "reg = LinearRegression()\n",
        "reg.fit(x,y)\n",
        "y_pred=reg.predict(x)\n",
        "\n",
        "fig,ax = plt.subplots(1,1,figsize=(4,4))\n",
        "ax.plot([-2,6],[-2,6],'k--')\n",
        "ax.plot(y_pred,y,'ko',markerfacecolor='w')\n",
        "ax.set_xlim([-2,6])\n",
        "ax.set_ylim([-2,6])\n",
        "ax.set_xlabel('Anesthetic Potency (pred) [-]')\n",
        "ax.set_ylabel('Anesthetic Potency (exp) [-]')\n"
      ]
    },
    {
      "cell_type": "code",
      "execution_count": null,
      "metadata": {
        "id": "AsCNOtkqfan8"
      },
      "outputs": [],
      "source": [
        "df_remi=df[df['MolID']=='a133']"
      ]
    },
    {
      "cell_type": "code",
      "execution_count": null,
      "metadata": {
        "id": "5mhPvdewfkqQ"
      },
      "outputs": [],
      "source": [
        "from rdkit.Chem import rdMolDescriptors\n",
        "from rdkit.Chem.Draw import IPythonConsole\n",
        "\n",
        "mol = Chem.MolFromSmiles('CC1=CN=C2N1C3=C(C=C(C=C3)Br)C(=NC2CCC(=O)OC)C4=CC=CC=N4')\n",
        "bi = {}\n",
        "fp0 = rdMolDescriptors.GetMorganFingerprintAsBitVect(mol, radius=0)\n",
        "fp = rdMolDescriptors.GetMorganFingerprintAsBitVect(mol, radius=1, bitInfo=bi)\n",
        "\n",
        "list_bits = []\n",
        "legends = []\n",
        "for x in fp.GetOnBits():\n",
        "  if x not in fp0.GetOnBits():\n",
        "    list_bits.append((mol,x,bi,0))\n",
        "    legends.append(str(len(bi[x])))\n",
        "Draw.DrawMorganBits(list_bits, legends=legends)"
      ]
    },
    {
      "cell_type": "code",
      "execution_count": null,
      "metadata": {
        "id": "c1jkjlM0hW7S"
      },
      "outputs": [],
      "source": [
        "from rdkit.Chem import rdMolDescriptors\n",
        "import numpy as np\n",
        "\n",
        "fingerprint=np.zeros([len(df['SMILES']),2000])\n",
        "AP=np.zeros([len(df['SMILES']),1])\n",
        "for smiles_idx, smiles in enumerate(df['SMILES'][0:135]):\n",
        "  mol = Chem.MolFromSmiles(smiles)\n",
        "  bi = {}\n",
        "  fp0 = rdMolDescriptors.GetMorganFingerprintAsBitVect(mol, radius=0,bitInfo=bi)\n",
        "  for x in fp0.GetOnBits():\n",
        "    fingerprint[smiles_idx,x]=len(bi[x])\n",
        "    AP[smiles_idx]=df['APexp'][smiles_idx]\n",
        "fingerprint\n",
        "\n",
        "import numpy as np\n",
        "import matplotlib.pyplot as plt\n",
        "import sklearn as sklearn\n",
        "import pickle\n",
        "from sklearn.linear_model import LinearRegression\n",
        "\n",
        "x=fingerprint\n",
        "y=AP\n",
        "\n",
        "reg = LinearRegression()\n",
        "reg.fit(x,y)\n",
        "fileObj = open('model.pkl', 'wb')\n",
        "pickle.dump(reg,fileObj)\n",
        "fileObj.close()\n",
        "y_pred=reg.predict(x)\n",
        "\n",
        "fig,ax = plt.subplots(1,1,figsize=(4,4))\n",
        "ax.plot([-2,6],[-2,6],'k--')\n",
        "ax.plot(y_pred,y,'ko',markerfacecolor='w')\n",
        "ax.set_xlim([-2,6])\n",
        "ax.set_ylim([-2,6])\n",
        "ax.set_xlabel('Anesthetic Potency (pred) [-]')\n",
        "ax.set_ylabel('Anesthetic Potency (exp) [-]')"
      ]
    },
    {
      "cell_type": "code",
      "execution_count": null,
      "metadata": {
        "id": "-l_UYyJskjTB"
      },
      "outputs": [],
      "source": [
        "fingerprint=np.zeros([len(df['SMILES'][136:138]),2000])\n",
        "AP=np.zeros([len(df['SMILES'][136:138]),1])\n",
        "for smiles_idx, smiles in enumerate(df['SMILES'][136:138]):\n",
        "  mol = Chem.MolFromSmiles(smiles)\n",
        "  bi = {}\n",
        "  fp0 = rdMolDescriptors.GetMorganFingerprintAsBitVect(mol, radius=0,bitInfo=bi)\n",
        "  for x in fp0.GetOnBits():\n",
        "    fingerprint[smiles_idx,x]=len(bi[x])\n",
        "    AP[smiles_idx]=df['APexp'][smiles_idx]\n",
        "\n",
        "import numpy as np\n",
        "import matplotlib.pyplot as plt\n",
        "import sklearn as sklearn\n",
        "from sklearn.linear_model import LinearRegression\n",
        "\n",
        "x=fingerprint\n",
        "\n",
        "with open(r\"model.pkl\", \"rb\") as input_file:\n",
        " model = pickle.load(input_file)\n",
        "\n",
        "y_pred=model.predict(x)\n",
        "\n",
        "print(y_pred)"
      ]
    },
    {
      "cell_type": "code",
      "source": [
        "import pandas as pd\n",
        "from google.colab import drive\n",
        "drive.mount('/content/gdrive', force_remount=True)"
      ],
      "metadata": {
        "id": "JvPGYnN1KAWT"
      },
      "execution_count": null,
      "outputs": []
    },
    {
      "cell_type": "code",
      "source": [
        "data = pd.read_excel('gdrive/My Drive/drugresources1.xlsx')"
      ],
      "metadata": {
        "id": "pROoQcaK1eI9"
      },
      "execution_count": null,
      "outputs": []
    },
    {
      "cell_type": "code",
      "source": [
        "from urllib.request import urlopen\n",
        "from urllib.parse import quote\n",
        "\n",
        "def CIRconvert(ids):\n",
        "    try:\n",
        "        url = 'http://cactus.nci.nih.gov/chemical/structure/' + quote(ids) + '/smiles'\n",
        "        ans = urlopen(url).read().decode('utf8')\n",
        "        return ans\n",
        "    except:\n",
        "        return 'Did not work'\n",
        "\n",
        "identifiers  = ['3-Methylheptane', 'Aspirin', 'Diethylsulfate', 'Diethyl sulfate', '50-78-2', 'Adamant']\n",
        "\n",
        "for ids in identifiers :\n",
        "    print(CIRconvert(ids))"
      ],
      "metadata": {
        "id": "tw98Pyq82-AR"
      },
      "execution_count": null,
      "outputs": []
    },
    {
      "cell_type": "code",
      "source": [
        "data['SMILES']=[CIRconvert(ids) for ids in data['Agent']]"
      ],
      "metadata": {
        "id": "PbavbPDW3Ifp"
      },
      "execution_count": null,
      "outputs": []
    },
    {
      "cell_type": "code",
      "source": [
        "data.loc[data['Actual class']<0,'Actual class']=0"
      ],
      "metadata": {
        "id": "7waDEQZfDFsn"
      },
      "execution_count": null,
      "outputs": []
    },
    {
      "cell_type": "code",
      "source": [
        "mol1 = Chem.MolFromSmiles(\"CC(=O)NC1=CC=C(C=C1)O\")\n",
        "mol1 = Chem.AddHs(mol1)\n",
        "Draw.MolToImage(mol1)"
      ],
      "metadata": {
        "id": "rqN4sMW34njZ"
      },
      "execution_count": null,
      "outputs": []
    },
    {
      "cell_type": "code",
      "source": [
        "mol1 = Chem.MolFromSmiles(\"CC(=O)Nc1ccc(O)cc1\")\n",
        "mol1 = Chem.AddHs(mol1)\n",
        "Draw.MolToImage(mol1)"
      ],
      "metadata": {
        "id": "D3zhXYH74q2K"
      },
      "execution_count": null,
      "outputs": []
    },
    {
      "cell_type": "code",
      "source": [
        "from rdkit.Chem import rdMolDescriptors\n",
        "from rdkit.Chem.Draw import IPythonConsole\n",
        "\n",
        "mol = Chem.MolFromSmiles(\"C[C@@H]1C[C@H]2[C@@H]3CCC4=CC(=O)C=C[C@@]4([C@]3([C@H](C[C@@]2([C@]1(C(=O)CO)O)C)O)F)C\")\n",
        "bi = {}\n",
        "fp0 = rdMolDescriptors.GetMorganFingerprintAsBitVect(mol, radius=0)\n",
        "fp = rdMolDescriptors.GetMorganFingerprintAsBitVect(mol, radius=1, bitInfo=bi)\n",
        "\n",
        "list_bits = []\n",
        "legends = []\n",
        "for x in fp.GetOnBits():\n",
        "  if x not in fp0.GetOnBits():\n",
        "    list_bits.append((mol,x,bi,0))\n",
        "    legends.append(str(len(bi[x])))\n",
        "Draw.DrawMorganBits(list_bits, legends=legends)"
      ],
      "metadata": {
        "id": "_nLfcJH140iX"
      },
      "execution_count": null,
      "outputs": []
    },
    {
      "cell_type": "code",
      "source": [
        "from rdkit.Chem import rdMolDescriptors\n",
        "from rdkit.Chem.Draw import IPythonConsole\n",
        "\n",
        "mol = Chem.MolFromSmiles(\"CC1CC2C3CCC4=CC(=O)C=CC4(C3(C(CC2(C1(C(=O)CO)O)C)O)F)C\")\n",
        "bi = {}\n",
        "fp0 = rdMolDescriptors.GetMorganFingerprintAsBitVect(mol, radius=0)\n",
        "fp = rdMolDescriptors.GetMorganFingerprintAsBitVect(mol, radius=1, bitInfo=bi)\n",
        "\n",
        "list_bits = []\n",
        "legends = []\n",
        "for x in fp.GetOnBits():\n",
        "  if x not in fp0.GetOnBits():\n",
        "    list_bits.append((mol,x,bi,0))\n",
        "    legends.append(str(len(bi[x])))\n",
        "Draw.DrawMorganBits(list_bits, legends=legends)"
      ],
      "metadata": {
        "id": "BzjXxSOf8_py"
      },
      "execution_count": null,
      "outputs": []
    },
    {
      "cell_type": "code",
      "source": [
        "from rdkit.Chem import rdMolDescriptors\n",
        "import numpy as np\n",
        "\n",
        "fingerprint=np.zeros([len(data['SMILES']),2000])\n",
        "AP=np.zeros([len(data['SMILES']),1])\n",
        "for smiles_idx, smiles in enumerate(data['SMILES']):\n",
        "  mol = Chem.MolFromSmiles(smiles)\n",
        "  bi = {}\n",
        "  fp0 = rdMolDescriptors.GetMorganFingerprintAsBitVect(mol, radius=0,bitInfo=bi)\n",
        "  for x in fp0.GetOnBits():\n",
        "    fingerprint[smiles_idx,x]=len(bi[x])\n",
        "    AP[smiles_idx]=df['SMILES'][smiles_idx]\n",
        "fingerprint"
      ],
      "metadata": {
        "id": "4Vzf1X909Ii4"
      },
      "execution_count": null,
      "outputs": []
    },
    {
      "cell_type": "code",
      "source": [
        "fingerprint=np.zeros([len(data['SMILES']),2000])\n",
        "AP=np.zeros([len(data['SMILES']),1])\n",
        "for smiles_idx, smiles in enumerate(data['SMILES']):\n",
        "  mol = Chem.MolFromSmiles(smiles)\n",
        "  bi = {}\n",
        "  fp0 = rdMolDescriptors.GetMorganFingerprintAsBitVect(mol, radius=0,bitInfo=bi)\n",
        "  for x in fp0.GetOnBits():\n",
        "    fingerprint[smiles_idx,x]=len(bi[x])\n",
        "    #AP[smiles_idx]=df['APexp'][smiles_idx]\n",
        "\n",
        "\n",
        "import numpy as np\n",
        "import matplotlib.pyplot as plt\n",
        "import sklearn as sklearn\n",
        "from sklearn.linear_model import LinearRegression\n",
        "\n",
        "x=fingerprint\n",
        "# model = pickle.load('model.pkl')\n"
      ],
      "metadata": {
        "id": "xF2Stfyc_-ED"
      },
      "execution_count": null,
      "outputs": []
    },
    {
      "cell_type": "code",
      "source": [
        "for i in x[0]:\n",
        "  print (i)"
      ],
      "metadata": {
        "id": "oyqtETNxBeG2"
      },
      "execution_count": null,
      "outputs": []
    },
    {
      "cell_type": "code",
      "source": [
        "# import the class\n",
        "from sklearn.linear_model import LogisticRegression\n",
        "\n",
        "# instantiate the model (using the default parameters)\n",
        "logreg = LogisticRegression(random_state=16)\n",
        "\n",
        "# fit the model with data\n",
        "logreg.fit(X_train, y_train)\n",
        "\n",
        "y_pred = logreg.predict(X_test)"
      ],
      "metadata": {
        "id": "T4x9BTXoBgTA"
      },
      "execution_count": null,
      "outputs": []
    },
    {
      "cell_type": "code",
      "source": [
        "# import the class\n",
        "from sklearn.linear_model import LogisticRegression\n",
        "from rdkit.Chem import rdMolDescriptors\n",
        "import numpy as np\n",
        "\n",
        "fingerprint=np.zeros([len(data['SMILES']),2000])\n",
        "AP=np.zeros([len(data['SMILES']),1])\n",
        "for smiles_idx, smiles in enumerate(data['SMILES']):\n",
        "  mol = Chem.MolFromSmiles(smiles)\n",
        "  bi = {}\n",
        "  fp0 = rdMolDescriptors.GetMorganFingerprintAsBitVect(mol, radius=0,bitInfo=bi)\n",
        "  for x in fp0.GetOnBits():\n",
        "    fingerprint[smiles_idx,x]=len(bi[x])\n",
        "    AP[smiles_idx]=data['Actual class'][smiles_idx]\n",
        "fingerprint\n",
        "\n",
        "import numpy as np\n",
        "import matplotlib.pyplot as plt\n",
        "import sklearn as sklearn\n",
        "from sklearn.linear_model import LinearRegression\n",
        "\n",
        "x=fingerprint\n",
        "y=AP\n",
        "# instantiate the model (using the default parameters)\n",
        "logreg = LogisticRegression(random_state=16)\n",
        "\n",
        "# fit the model with data\n",
        "logreg.fit(x,y)\n",
        "\n",
        "\n",
        "y_pred=logreg.predict(x)\n",
        "\n",
        "fig,ax = plt.subplots(1,1,figsize=(4,4))\n",
        "ax.plot([-2,6],[-2,6],'k--')\n",
        "ax.plot(y_pred,y,'ko',markerfacecolor='w')\n",
        "ax.set_xlim([-2,6])\n",
        "ax.set_ylim([-2,6])\n",
        "ax.set_xlabel('Anesthetic Potency (pred) [-]')\n",
        "ax.set_ylabel('Anesthetic Potency (exp) [-]')"
      ],
      "metadata": {
        "id": "qXHLp8ogEMFY"
      },
      "execution_count": null,
      "outputs": []
    },
    {
      "cell_type": "code",
      "source": [
        "# import the metrics class\n",
        "from sklearn import metrics\n",
        "\n",
        "cnf_matrix = metrics.confusion_matrix(y, y_pred)\n",
        "cnf_matrix"
      ],
      "metadata": {
        "id": "AFhrjboCFggL"
      },
      "execution_count": null,
      "outputs": []
    },
    {
      "cell_type": "code",
      "source": [
        "ids='midazolam'\n",
        "smilocs=CIRconvert(ids)"
      ],
      "metadata": {
        "id": "b07oXjG-HQ_C"
      },
      "execution_count": null,
      "outputs": []
    },
    {
      "cell_type": "code",
      "source": [
        "# import the class\n",
        "from sklearn.linear_model import LogisticRegression\n",
        "from rdkit.Chem import rdMolDescriptors\n",
        "import numpy as np\n",
        "\n",
        "fingerprint=np.zeros([1,2000])\n",
        "AP=np.zeros([1,1])\n",
        "\n",
        "mol = Chem.MolFromSmiles(smilocs)\n",
        "bi = {}\n",
        "fp0 = rdMolDescriptors.GetMorganFingerprintAsBitVect(mol, radius=0,bitInfo=bi)\n",
        "for x in fp0.GetOnBits():\n",
        "  fingerprint[0,x]=len(bi[x])\n",
        "  AP[0]=0\n",
        "fingerprint"
      ],
      "metadata": {
        "id": "upA259_1HuZS"
      },
      "execution_count": null,
      "outputs": []
    },
    {
      "cell_type": "code",
      "source": [
        "logreg.predict(fingerprint)"
      ],
      "metadata": {
        "id": "QVMxKsENIlM4"
      },
      "execution_count": null,
      "outputs": []
    },
    {
      "cell_type": "code",
      "source": [
        "import pandas as pd\n",
        "data = pd.read_excel('gdrive/My Drive/drugresources1.xlsx')"
      ],
      "metadata": {
        "id": "JTt-qxo62_a7"
      },
      "execution_count": null,
      "outputs": []
    },
    {
      "cell_type": "code",
      "source": [
        "data.loc[data['Actual class']<0,'Actual class']=0"
      ],
      "metadata": {
        "id": "Z_kA2o4f31cU"
      },
      "execution_count": null,
      "outputs": []
    },
    {
      "cell_type": "code",
      "source": [
        "!pip install pubchempy"
      ],
      "metadata": {
        "id": "GeukJy6K-ln_"
      },
      "execution_count": null,
      "outputs": []
    },
    {
      "cell_type": "code",
      "source": [
        "import pubchempy as pcp\n",
        "results = pcp.get_compounds('Glucose', 'name')\n",
        "print (results)\n",
        "\n",
        "\n",
        "\n",
        "for compound in results:\n",
        "     print (compound.canonical_smiles)\n",
        "\n"
      ],
      "metadata": {
        "id": "1sBa5Kju5LoB"
      },
      "execution_count": null,
      "outputs": []
    },
    {
      "cell_type": "code",
      "source": [
        "from urllib.request import urlopen\n",
        "from urllib.parse import quote\n",
        "import pubchempy as pcp\n",
        "\n",
        "\n",
        "def CIRconvert(ids):\n",
        "    try:\n",
        "        results = pcp.get_compounds(ids, 'name')\n",
        "        ans=results[0].canonical_smiles\n",
        "        return ans\n",
        "    except:\n",
        "        return 'Did not work'\n",
        "\n",
        "\n",
        "identifiers  = ['3-Methylheptane', 'Aspirin', 'Diethylsulfate', 'Diethyl sulfate', '50-78-2', 'Adamant']\n",
        "\n",
        "for ids in identifiers :\n",
        "    print(CIRconvert(ids))\n",
        "\n",
        "\n",
        "\n",
        "\n",
        "\n"
      ],
      "metadata": {
        "id": "gxh-SzS3-jkN"
      },
      "execution_count": null,
      "outputs": []
    },
    {
      "cell_type": "code",
      "source": [
        "data['SMILES']=[CIRconvert(ids) for ids in data['Agent']]"
      ],
      "metadata": {
        "id": "BsscnnNFRWXW"
      },
      "execution_count": null,
      "outputs": []
    },
    {
      "cell_type": "code",
      "source": [
        "data.loc[data['Actual class']<0,'Actual class']=0"
      ],
      "metadata": {
        "id": "1qS__3d7Gsik"
      },
      "execution_count": null,
      "outputs": []
    },
    {
      "cell_type": "code",
      "source": [
        "len(data[data['SMILES']=='Did not work'])"
      ],
      "metadata": {
        "id": "-XpOuic2Cwj8"
      },
      "execution_count": null,
      "outputs": []
    },
    {
      "cell_type": "code",
      "source": [
        "data[data['SMILES']!='Did not work']"
      ],
      "metadata": {
        "id": "qR__QgVKC0kH"
      },
      "execution_count": null,
      "outputs": []
    },
    {
      "cell_type": "code",
      "source": [
        "data2=data[data['SMILES']!='Did not work']"
      ],
      "metadata": {
        "id": "3ywWmtINELaa"
      },
      "execution_count": null,
      "outputs": []
    },
    {
      "cell_type": "code",
      "source": [
        "# Shuffle dataframe using sample function\n",
        "data2 = data2.sample(frac=1)\n",
        "data2"
      ],
      "metadata": {
        "id": "S9ZBaDTwEbN3"
      },
      "execution_count": null,
      "outputs": []
    },
    {
      "cell_type": "code",
      "source": [
        "# @title\n",
        "# Select ratio\n",
        "ratio = 0.80\n",
        "\n",
        "total_rows = data2.shape[0]\n",
        "train_size = int(total_rows*ratio)\n",
        "\n",
        "# Split data into test and train\n",
        "train = data2[0:train_size]\n",
        "test = data2[train_size:]\n"
      ],
      "metadata": {
        "id": "BhLjNT6uGrL2",
        "collapsed": true
      },
      "execution_count": null,
      "outputs": []
    },
    {
      "cell_type": "code",
      "source": [
        "from rdkit import Chem"
      ],
      "metadata": {
        "id": "kIX5JHaOJreV"
      },
      "execution_count": null,
      "outputs": []
    },
    {
      "cell_type": "code",
      "source": [
        "train=train.reset_index(drop=True)"
      ],
      "metadata": {
        "id": "Qrmo0mS8LJ6j"
      },
      "execution_count": null,
      "outputs": []
    },
    {
      "cell_type": "code",
      "source": [
        "from rdkit.Chem import rdMolDescriptors\n",
        "import numpy as np\n",
        "\n",
        "fingerprint=np.zeros([len(train['SMILES']),2000])\n",
        "AP=np.zeros([len(train['SMILES']),1])\n",
        "for smiles_idx, smiles in enumerate(train['SMILES']):\n",
        "  print(smiles_idx)\n",
        "  print(train)\n",
        "  print(smiles)\n",
        "  mol = Chem.MolFromSmiles(smiles)\n",
        "  bi = {}\n",
        "  fp0 = rdMolDescriptors.GetMorganFingerprintAsBitVect(mol, radius=0,bitInfo=bi)\n",
        "  for x in fp0.GetOnBits():\n",
        "    fingerprint[smiles_idx,x]=len(bi[x])\n",
        "    AP[smiles_idx]=train['Actual class'][smiles_idx]\n",
        "fingerprint\n",
        "\n",
        "import numpy as np\n",
        "import matplotlib.pyplot as plt\n",
        "import sklearn as sklearn\n",
        "from sklearn.linear_model import LogisticRegression\n",
        "\n",
        "x=fingerprint\n",
        "y=AP\n",
        "\n",
        "# instantiate the model (using the default parameters)\n",
        "logreg = LogisticRegression(random_state=16)\n",
        "\n",
        "# fit the model with data\n",
        "logreg.fit(x,y)\n",
        "y_pred=logreg.predict(fingerprint)\n",
        "fig,ax = plt.subplots(1,1,figsize=(4,4))\n",
        "ax.plot([-2,6],[-2,6],'k--')\n",
        "ax.plot(y_pred,y,'ko',markerfacecolor='w')\n",
        "ax.set_xlim([-2,6])\n",
        "ax.set_ylim([-2,6])\n",
        "ax.set_xlabel('Anesthetic Potency (pred) [-]')\n",
        "ax.set_ylabel('Anesthetic Potency (exp)')"
      ],
      "metadata": {
        "id": "uXoGLvlFHjnH"
      },
      "execution_count": null,
      "outputs": []
    },
    {
      "cell_type": "code",
      "source": [
        "# import the metrics class\n",
        "from sklearn import metrics\n",
        "\n",
        "cnf_matrix = metrics.confusion_matrix(y, y_pred)\n",
        "cnf_matrix"
      ],
      "metadata": {
        "id": "_0m7PxQyLy6J"
      },
      "execution_count": null,
      "outputs": []
    },
    {
      "cell_type": "code",
      "source": [
        "test=test.reset_index(drop=True)"
      ],
      "metadata": {
        "id": "NmbFYO6KMoVb"
      },
      "execution_count": null,
      "outputs": []
    },
    {
      "cell_type": "code",
      "source": [
        "from rdkit.Chem import rdMolDescriptors\n",
        "import numpy as np\n",
        "\n",
        "fingerprint=np.zeros([len(test['SMILES']),2000])\n",
        "AP=np.zeros([len(test['SMILES']),1])\n",
        "for smiles_idx, smiles in enumerate(test['SMILES']):\n",
        "  print(smiles_idx)\n",
        "  print(test)\n",
        "  print(smiles)\n",
        "  mol = Chem.MolFromSmiles(smiles)\n",
        "  bi = {}\n",
        "  fp0 = rdMolDescriptors.GetMorganFingerprintAsBitVect(mol, radius=0,bitInfo=bi)\n",
        "  for x in fp0.GetOnBits():\n",
        "    fingerprint[smiles_idx,x]=len(bi[x])\n",
        "    AP[smiles_idx]=test['Actual class'][smiles_idx]\n",
        "fingerprint\n",
        "\n",
        "import numpy as np\n",
        "import matplotlib.pyplot as plt\n",
        "import sklearn as sklearn\n",
        "from sklearn.linear_model import LogisticRegression\n",
        "\n",
        "x=fingerprint\n",
        "y=AP\n",
        "\n",
        "# instantiate the model (using the default parameters)\n",
        "\n",
        "\n",
        "# fit the model with data\n",
        "\n",
        "y_pred=logreg.predict(fingerprint)\n",
        "fig,ax = plt.subplots(1,1,figsize=(4,4))\n",
        "ax.plot([-2,6],[-2,6],'k--')\n",
        "ax.plot(y_pred,y,'ko',markerfacecolor='w')\n",
        "ax.set_xlim([-2,6])\n",
        "ax.set_ylim([-2,6])\n",
        "ax.set_xlabel('Anesthetic Potency (pred) [-]')\n",
        "ax.set_ylabel('Anesthetic Potency (exp)')"
      ],
      "metadata": {
        "id": "6lGwPZcCLzk6"
      },
      "execution_count": null,
      "outputs": []
    },
    {
      "cell_type": "code",
      "source": [
        "# import the metrics class\n",
        "from sklearn import metrics\n",
        "\n",
        "cnf_matrix = metrics.confusion_matrix(y, y_pred)\n",
        "cnf_matrix"
      ],
      "metadata": {
        "id": "0jO0c8qEM4Wx"
      },
      "execution_count": null,
      "outputs": []
    },
    {
      "cell_type": "code",
      "source": [
        "df=pd.read_excel('gdrive/My Drive/staged_learning_2.xlsx')\n",
        "df #dataframe"
      ],
      "metadata": {
        "id": "WiyBGFARNLVZ"
      },
      "execution_count": null,
      "outputs": []
    },
    {
      "cell_type": "code",
      "source": [
        "steparray = [1,2,3,4,5,6,7,8,9,10,11,12,13,14,15]\n",
        "scorearray = []\n",
        "for i in steparray:\n",
        "  df_step = df[df['step']== i]\n",
        "  print(df_step)\n",
        "  raw_step = df_step['AnesthPot (raw)']\n",
        "  scorearray.append(np.mean(raw_step))"
      ],
      "metadata": {
        "id": "mBkvqzSpzcGj"
      },
      "execution_count": null,
      "outputs": []
    },
    {
      "cell_type": "code",
      "source": [
        "plt.plot(steparray,scorearray)\n",
        "\n",
        "\n",
        "plt.xlabel('Step ')\n",
        "plt.ylabel('Anesthetic Potency (raw) ')"
      ],
      "metadata": {
        "id": "5NEKt1PgCHFM"
      },
      "execution_count": null,
      "outputs": []
    },
    {
      "cell_type": "code",
      "execution_count": null,
      "metadata": {
        "id": "Jw-1JpI_zjsD"
      },
      "outputs": [],
      "source": [
        "from rdkit.Chem import rdMolDescriptors\n",
        "import numpy as np\n",
        "\n",
        "fingerprint=np.zeros([len(df['SMILES']),2000])\n",
        "AP=np.zeros([len(df['SMILES']),1])\n",
        "for smiles_idx, smiles in enumerate(df['SMILES']):\n",
        "  mol = Chem.MolFromSmiles(smiles)\n",
        "  bi = {}\n",
        "  fp0 = rdMolDescriptors.GetMorganFingerprintAsBitVect(mol, radius=0,bitInfo=bi)\n",
        "  for x in fp0.GetOnBits():\n",
        "    fingerprint[smiles_idx,x]=len(bi[x])\n",
        "    AP[smiles_idx]=df['AnesthPot (raw)'][smiles_idx]\n",
        "fingerprint\n",
        "\n",
        "import numpy as np\n",
        "import matplotlib.pyplot as plt\n",
        "import sklearn as sklearn\n",
        "from sklearn.linear_model import LinearRegression\n",
        "\n",
        "x=fingerprint\n",
        "y=AP\n",
        "\n",
        "reg = LinearRegression()\n",
        "reg.fit(x,y)\n",
        "y_pred=reg.predict(x)\n",
        "\n",
        "fig,ax = plt.subplots(1,1,figsize=(4,4))\n",
        "ax.plot([-2,6],[-2,6],'k--')\n",
        "ax.plot(y_pred,y,'ko',markerfacecolor='w')\n",
        "ax.set_xlim([-2,6])\n",
        "ax.set_ylim([-2,6])\n",
        "ax.set_xlabel('Anesthetic Potency (Raw) [-]')\n",
        "ax.set_ylabel('Anesthetic Potency (exp) [-]')\n"
      ]
    },
    {
      "cell_type": "code",
      "source": [
        "from rdkit.Chem import rdMolDescriptors, Chem\n",
        "import numpy as np\n",
        "\n",
        "fingerprint=np.zeros([len(df['SMILES']),2000])\n",
        "AP=np.zeros([len(df['SMILES']),1])\n",
        "for smiles_idx, smiles in enumerate(df['SMILES']):\n",
        "  mol = Chem.MolFromSmiles(smiles)  # Initialize mol with the result of MolFromSmiles\n",
        "  bi = {}\n",
        "  fp0 = rdMolDescriptors.GetMorganFingerprintAsBitVect(mol, radius=0,bitInfo=bi)\n",
        "  for x in fp0.GetOnBits():\n",
        "    fingerprint[smiles_idx,x]=len(bi[x])\n",
        "    AP[smiles_idx]=df['AnesthPot (raw)'][smiles_idx]\n",
        "fingerprint\n",
        "\n",
        "import numpy as np\n",
        "import matplotlib.pyplot as plt\n",
        "import sklearn as sklearn\n",
        "from sklearn.linear_model import LinearRegression\n",
        "\n",
        "x=fingerprint\n",
        "y=AP\n",
        "\n",
        "reg = LinearRegression()\n",
        "reg.fit(x,y)\n",
        "y_pred=reg.predict(x)\n",
        "\n",
        "fig,ax = plt.subplots(1,1,figsize=(4,4))\n",
        "ax.plot([-2,6],[-2,6],'k--')\n",
        "ax.plot(y_pred,y,'ko',markerfacecolor='w')\n",
        "ax.set_xlim([-2,6])\n",
        "ax.set_ylim([-2,6])\n",
        "ax.set_xlabel('Anesthetic Potency (Raw) [-]')\n",
        "ax.set_ylabel('Anesthetic Potency (exp) [-]')"
      ],
      "metadata": {
        "id": "Fgz2J4_-0AaH"
      },
      "execution_count": null,
      "outputs": []
    }
  ],
  "metadata": {
    "colab": {
      "provenance": [],
      "include_colab_link": true
    },
    "kernelspec": {
      "display_name": "Python 3",
      "name": "python3"
    },
    "language_info": {
      "name": "python"
    }
  },
  "nbformat": 4,
  "nbformat_minor": 0
}